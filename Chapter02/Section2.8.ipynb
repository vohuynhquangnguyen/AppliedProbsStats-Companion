{
 "cells": [
  {
   "cell_type": "markdown",
   "metadata": {},
   "source": [
    "### Problem 2.8.1"
   ]
  },
  {
   "cell_type": "markdown",
   "metadata": {},
   "source": [
    "### Problem 2.8.2\n",
    "According to Bayes' rule,\n",
    "$$\n",
    "P(B|A)\\times P(A) = P(A|B)\\times P(B) \\rightarrow P(B|A) = \\frac{P(A|B)\\times P(B) }{P(A)} = \\frac{}{}\n",
    "$$"
   ]
  }
 ],
 "metadata": {
  "language_info": {
   "name": "python"
  }
 },
 "nbformat": 4,
 "nbformat_minor": 2
}
