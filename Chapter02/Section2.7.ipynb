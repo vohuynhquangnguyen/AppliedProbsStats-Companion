{
 "cells": [
  {
   "cell_type": "markdown",
   "metadata": {},
   "source": [
    "### Problem 2.7.1\n",
    "$B$ and $A^C$ are independent when $P(A^C,B) = P(B)\\times P(A^C)$. Hence, we need to check whether this relationship is true.\n",
    "* In this case, $P(B) = 0.8$ and $P(A^C) = 1 - P(A) = 1 - 0.3 = 0.7$. Therefore, $P(A^C)\\times P(B) = 0.7\\times0.8 = 0.56$.\n",
    "* Meanwhile, $P(A|B) = 1 - P(A^C|B)$. Thus, $P(A^C|B) = 1 - 0.3 = 0.7$. Therefore, $P(A^C,B) = P(A^C|B)\\times P(B) = 0.56$\n",
    "As a result, these events $B$ and $A^C$ are independent.s"
   ]
  },
  {
   "cell_type": "markdown",
   "metadata": {},
   "source": [
    "### Problem 2.7.2\n",
    "In this case, $A$ and $B$ are mutually exclusive events, so $P(A,B) = 0$. For $A$ and $B$ to be independent from one to another, $P(A,B) = P(A)\\times P(B)$. Since  $P(A,B) = 0 \\neq P(A)\\times P(B)$, these events are not independent."
   ]
  },
  {
   "cell_type": "markdown",
   "metadata": {},
   "source": [
    "### Problem 2.7.3\n",
    "Denote $A$ and $B$ as events that the first and second containers selected are defective, respectively.\n",
    "\n",
    "a.\n",
    "\n",
    "For $A$ and $B$ to be independent events, these relationship have to hold true:\n",
    "$$\n",
    "\\begin{cases}\n",
    "P(A,B) = P(A)\\times P(B) \\\\ \n",
    "P(A|B) = P(A|B^C) = P(A) \\\\\n",
    "P(B|A) = P(B|A^C) = P(B) \n",
    "\\end{cases}\n",
    "$$\n",
    "\n",
    "In this scenario, the probability that the first container is defective is given as $P(A) = \\frac{5}{500}$. Meanwhile, the probability that the second container is defective is given as $P(B) = \\frac{4}{499}$ as one defective container is already selected. Since the presence of $A$ influences the presence of $B$, $A$ and $B$ are not independent.\n",
    "\n",
    "b.\n",
    "When sampling were done with replacement, $A$ and $B$ would be independent because:\n",
    "* The probability that the first container is defective is $P(A) = \\frac{5}{500}$.\n",
    "* The probability that the second container is defective is still $P(B) = \\frac{5}{500}$ as even though the first selected container is defective, it is placed back into the batch for the next sample."
   ]
  },
  {
   "cell_type": "markdown",
   "metadata": {},
   "source": [
    "### Problem 2.7.4"
   ]
  },
  {
   "cell_type": "markdown",
   "metadata": {},
   "source": [
    "### Problem 2.7.11\n",
    "Denote\n",
    "* $A_1$,$A_2$ are elements in the first combination.\n",
    "* $B_1$,$B_2$ are elements in the second combination.\n",
    "* $C_1$, $C_2$ are elements in the third combination.\n",
    "\n",
    "In this circuitry,\n",
    "* The first combination works when either $A_1$ or $A_2$ works. Hence, the probability that the first combination works is computed as:\n",
    "$$\n",
    "\\begin{aligned}\n",
    "P(A) &= P(A_1,A_2) + P(A_1^C,A_2) + P(A_1,A_2^C) \\\\\n",
    "&= 0.9\\times0.95 + (1-0.9)\\times0.95 + 0.9\\times(1-0.95) \\\\\n",
    "&= 0.995\n",
    "\\end{aligned}\n",
    "$$\n",
    "\n",
    "* The second combination works when either $B_1$ or $B_2$ works. Hence, the probability that the second combination works is computed as:\n",
    "$$\n",
    "\\begin{aligned}\n",
    "P(B) &= P(B_1,B_2) + P(B_1^C,B_2) + P(B_1,B_2^C) \\\\\n",
    "&= 0.9\\times0.95 + (1-0.9)\\times0.95 + 0.9\\times(1-0.95) \\\\\n",
    "&= 0.995\n",
    "\\end{aligned}\n",
    "$$\n",
    "* The third combination works when either $C_1$ or $C_2$ works. Hence, the probability that the third combination works is computed as:\n",
    "$$\n",
    "\\begin{aligned}\n",
    "P(C) &= P(C_1,C_2) + P(C_1^C,C_2) + P(C_1,C_2^C) \\\\\n",
    "&= 0.8\\times0.9 + (1-0.8)\\times0.9 + 0.8\\times(1-0.9) \\\\\n",
    "&= 0.98\n",
    "\\end{aligned}\n",
    "$$\n",
    "\n",
    "* The circuit works when all these combinations work, hence\n",
    "$$\n",
    "P = P(A)\\times P(B) \\times P(C) \\approx 0.9702\n",
    "$$"
   ]
  },
  {
   "cell_type": "markdown",
   "metadata": {},
   "source": [
    "### Problem 2.7.12\n",
    "Denote $A$ and $B$ as the upper and lower branches of the circuit, respectively.\n",
    "* The probability that the upper branch works is computed as:\n",
    "$$\n",
    "P(A) = 0.9\\times0.8\\times0.7 = 0.504\n",
    "$$ \n",
    "* The probability that the lower branch works is computed as:\n",
    "$$\n",
    "P(B) = 0.95\\times0.95\\times0.95 = 0.8573\n",
    "$$\n",
    "\n",
    "In this scenario, the circuit operates when either of the branch works. Hence, the probability that the circuit operates is given as:\n",
    "$$\n",
    "\\begin{aligned}\n",
    "P &= P(A)\\times P(B) + P(A^C)\\times P(B) + P(A)\\times P(B^C) \\\\\n",
    "&= 0.504\\times0.8573 + (1-0.504)\\times0.8573 + 0.504\\times(1-0.8573) \\\\\n",
    "&\\approx 0.9292\n",
    "\\end{aligned}\n",
    "$$"
   ]
  }
 ],
 "metadata": {
  "language_info": {
   "name": "python"
  }
 },
 "nbformat": 4,
 "nbformat_minor": 2
}
